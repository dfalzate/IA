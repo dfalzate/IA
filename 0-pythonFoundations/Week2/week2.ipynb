{
 "cells": [
  {
   "cell_type": "code",
   "execution_count": 2,
   "metadata": {},
   "outputs": [
    {
     "name": "stdout",
     "output_type": "stream",
     "text": [
      "[1 2 3 4]\n",
      "<class 'list'>\n",
      "<class 'numpy.ndarray'>\n",
      "['a' 'b' 'c']\n",
      "<class 'list'>\n",
      "<class 'numpy.ndarray'>\n"
     ]
    }
   ],
   "source": [
    "import numpy as np\n",
    "numbers=[1,2,3,4]\n",
    "strings=['a','b','c']\n",
    "np_numbers=np.array(numbers)\n",
    "np_strings=np.array(strings)\n",
    "print(np_numbers)\n",
    "print(type(numbers))\n",
    "print(type(np_numbers))\n",
    "print(np_strings)\n",
    "print(type(strings))\n",
    "print(type(np_strings))"
   ]
  },
  {
   "cell_type": "code",
   "execution_count": 3,
   "metadata": {},
   "outputs": [
    {
     "name": "stdout",
     "output_type": "stream",
     "text": [
      "<class 'list'> [[1, 2, 3], [4, 5, 6], [7, 8, 9]]\n",
      "<class 'numpy.ndarray'>\n",
      "[[1 2 3]\n",
      " [4 5 6]\n",
      " [7 8 9]]\n"
     ]
    }
   ],
   "source": [
    "matrix=[[1,2,3],[4,5,6],[7,8,9]]\n",
    "np_matrix=np.array(matrix)\n",
    "print(type(matrix),matrix)\n",
    "print(type(np_matrix))\n",
    "print(np_matrix)"
   ]
  },
  {
   "cell_type": "code",
   "execution_count": 4,
   "metadata": {},
   "outputs": [
    {
     "name": "stdout",
     "output_type": "stream",
     "text": [
      "[0 1 2 3 4 5 6 7 8 9]\n",
      "[0 2 4 6 8]\n"
     ]
    }
   ],
   "source": [
    "arr1=np.arange(0,10)\n",
    "print(arr1)\n",
    "arr2=np.arange(0,10,2)\n",
    "print(arr2)"
   ]
  },
  {
   "cell_type": "code",
   "execution_count": 5,
   "metadata": {},
   "outputs": [
    {
     "name": "stdout",
     "output_type": "stream",
     "text": [
      "[0.         0.10204082 0.20408163 0.30612245 0.40816327 0.51020408\n",
      " 0.6122449  0.71428571 0.81632653 0.91836735 1.02040816 1.12244898\n",
      " 1.2244898  1.32653061 1.42857143 1.53061224 1.63265306 1.73469388\n",
      " 1.83673469 1.93877551 2.04081633 2.14285714 2.24489796 2.34693878\n",
      " 2.44897959 2.55102041 2.65306122 2.75510204 2.85714286 2.95918367\n",
      " 3.06122449 3.16326531 3.26530612 3.36734694 3.46938776 3.57142857\n",
      " 3.67346939 3.7755102  3.87755102 3.97959184 4.08163265 4.18367347\n",
      " 4.28571429 4.3877551  4.48979592 4.59183673 4.69387755 4.79591837\n",
      " 4.89795918 5.        ]\n",
      "[10.         10.90909091 11.81818182 12.72727273 13.63636364 14.54545455\n",
      " 15.45454545 16.36363636 17.27272727 18.18181818 19.09090909 20.\n",
      " 20.90909091 21.81818182 22.72727273 23.63636364 24.54545455 25.45454545\n",
      " 26.36363636 27.27272727 28.18181818 29.09090909 30.         30.90909091\n",
      " 31.81818182 32.72727273 33.63636364 34.54545455 35.45454545 36.36363636\n",
      " 37.27272727 38.18181818 39.09090909 40.         40.90909091 41.81818182\n",
      " 42.72727273 43.63636364 44.54545455 45.45454545 46.36363636 47.27272727\n",
      " 48.18181818 49.09090909 50.        ]\n"
     ]
    }
   ],
   "source": [
    "arr3=np.linspace(0,5)\n",
    "print(arr3)\n",
    "arr4=np.linspace(10,50,45)\n",
    "print(arr4)"
   ]
  },
  {
   "cell_type": "code",
   "execution_count": 6,
   "metadata": {},
   "outputs": [
    {
     "name": "stdout",
     "output_type": "stream",
     "text": [
      "[[0. 0. 0. 0. 0.]\n",
      " [0. 0. 0. 0. 0.]\n",
      " [0. 0. 0. 0. 0.]]\n",
      "[[1. 1. 1. 1. 1.]\n",
      " [1. 1. 1. 1. 1.]\n",
      " [1. 1. 1. 1. 1.]]\n",
      "[[1. 0. 0. 0. 0.]\n",
      " [0. 1. 0. 0. 0.]\n",
      " [0. 0. 1. 0. 0.]\n",
      " [0. 0. 0. 1. 0.]\n",
      " [0. 0. 0. 0. 1.]]\n"
     ]
    }
   ],
   "source": [
    "arr5=np.zeros([3,5])\n",
    "print(arr5)\n",
    "arr6=np.ones([3,5])\n",
    "print(arr6)\n",
    "arr7=np.eye(5)\n",
    "print(arr7)"
   ]
  },
  {
   "cell_type": "code",
   "execution_count": 7,
   "metadata": {},
   "outputs": [
    {
     "name": "stdout",
     "output_type": "stream",
     "text": [
      "[ 0  1  2  3  4  5  6  7  8  9 10 11 12 13 14]\n",
      "[[ 0  1  2  3  4]\n",
      " [ 5  6  7  8  9]\n",
      " [10 11 12 13 14]]\n"
     ]
    }
   ],
   "source": [
    "arr8=np.arange(0,15)\n",
    "print(arr8)\n",
    "arr8=arr8.reshape(3,5)\n",
    "print(arr8)"
   ]
  },
  {
   "cell_type": "code",
   "execution_count": 8,
   "metadata": {},
   "outputs": [
    {
     "name": "stdout",
     "output_type": "stream",
     "text": [
      "-0.7568024953079282\n",
      "[[ 0.          0.84147098  0.90929743  0.14112001 -0.7568025 ]\n",
      " [-0.95892427 -0.2794155   0.6569866   0.98935825  0.41211849]\n",
      " [-0.54402111 -0.99999021 -0.53657292  0.42016704  0.99060736]]\n"
     ]
    }
   ],
   "source": [
    "#Sen, Cos\n",
    "sin=np.sin(4) #radians\n",
    "print (sin)\n",
    "\n",
    "arr_syn=np.sin(arr8)\n",
    "print(arr_syn)\n"
   ]
  },
  {
   "cell_type": "code",
   "execution_count": 9,
   "metadata": {},
   "outputs": [
    {
     "name": "stdout",
     "output_type": "stream",
     "text": [
      "[5 7 9]\n",
      "[-3 -3 -3]\n",
      "[ 4 10 18]\n",
      "[0.25 0.4  0.5 ]\n",
      "[1.         0.5        0.33333333]\n",
      "[  1  32 729]\n"
     ]
    }
   ],
   "source": [
    "l1=np.arange(1,4)\n",
    "l2=np.arange(4,7)\n",
    "print(l1+l2)\n",
    "print(l1-l2)\n",
    "print(l1*l2)\n",
    "print(l1/l2)\n",
    "print(1/l1)\n",
    "print(l1**l2)"
   ]
  },
  {
   "cell_type": "code",
   "execution_count": 10,
   "metadata": {},
   "outputs": [
    {
     "name": "stdout",
     "output_type": "stream",
     "text": [
      "[[1 2 3]\n",
      " [4 5 6]\n",
      " [7 8 9]] [[1. 0. 0.]\n",
      " [0. 1. 0.]\n",
      " [0. 0. 1.]]\n",
      "[[ 2.  2.  3.]\n",
      " [ 4.  6.  6.]\n",
      " [ 7.  8. 10.]]\n",
      "[[0. 2. 3.]\n",
      " [4. 4. 6.]\n",
      " [7. 8. 8.]]\n",
      "[[1. 0. 0.]\n",
      " [0. 5. 0.]\n",
      " [0. 0. 9.]]\n",
      "[[ 1. inf inf]\n",
      " [inf  5. inf]\n",
      " [inf inf  9.]]\n"
     ]
    },
    {
     "name": "stderr",
     "output_type": "stream",
     "text": [
      "/tmp/ipykernel_12265/729529342.py:8: RuntimeWarning: divide by zero encountered in divide\n",
      "  print(m1/m2)\n"
     ]
    }
   ],
   "source": [
    "m1=np.arange(1,10).reshape(3,3)\n",
    "m2=np.eye(3)\n",
    "\n",
    "print(m1,m2)\n",
    "print(m1+m2)\n",
    "print(m1-m2)\n",
    "print(m1*m2)\n",
    "print(m1/m2)\n"
   ]
  },
  {
   "cell_type": "code",
   "execution_count": 11,
   "metadata": {},
   "outputs": [
    {
     "name": "stdout",
     "output_type": "stream",
     "text": [
      "[[1 2 3]\n",
      " [4 5 6]\n",
      " [7 8 9]] [[11 12 13]\n",
      " [14 15 16]\n",
      " [17 18 19]]\n",
      "* [[ 90  96 102]\n",
      " [216 231 246]\n",
      " [342 366 390]]\n",
      "[[1 4 7]\n",
      " [2 5 8]\n",
      " [3 6 9]]\n",
      "[[1 4 7]\n",
      " [2 5 8]\n",
      " [3 6 9]]\n"
     ]
    }
   ],
   "source": [
    "m3=np.arange(1,10).reshape(3,3)\n",
    "m4=np.arange(11,20).reshape(3,3)\n",
    "print(m3,m4)\n",
    "print('*', m3 @ m4)\n",
    "print(np.transpose(m3))\n",
    "print(m3.T)"
   ]
  },
  {
   "cell_type": "code",
   "execution_count": 12,
   "metadata": {},
   "outputs": [
    {
     "name": "stdout",
     "output_type": "stream",
     "text": [
      "1\n",
      "9\n",
      "[0.80529579 0.42831949 0.75654932 0.27173627 0.99526523]\n",
      "[[0.63502285 0.52318775 0.3941948  0.28719201 0.63164843]\n",
      " [0.55865535 0.67783734 0.41884627 0.02734014 0.74694813]\n",
      " [0.03231728 0.87147604 0.63625899 0.19170984 0.60700213]\n",
      " [0.41876899 0.48071406 0.88519124 0.15029445 0.04376005]\n",
      " [0.78200284 0.459162   0.7370271  0.08887704 0.57407522]]\n",
      "[[ 0.58433732 -2.24454976 -1.15275459 -1.1201205   0.23239643]\n",
      " [ 0.97607566 -0.27592675  2.54606777  0.40778286 -0.29365368]\n",
      " [-1.43659599 -0.75534462 -1.65280362 -0.59440404 -0.68316232]\n",
      " [-1.11588467 -0.91093618  0.14067292  0.80678107 -0.58305448]\n",
      " [ 1.96590453 -0.40726481  3.33714533  0.77694638 -1.15829173]]\n",
      "Mean: -0.10442549880456609\n",
      "Standard: 1.2944875096919282\n",
      "[5 6 2 4 8 5 6 1 3 3] [False  True False False  True False  True False False False] [6 8 6]\n",
      "[[9 3 3 2 7]\n",
      " [9 3 6 8 3]\n",
      " [5 1 8 5 1]\n",
      " [7 2 3 2 9]\n",
      " [1 2 2 5 9]] [9 3 6 8 3] 3 [[3 3]\n",
      " [3 6]]\n"
     ]
    }
   ],
   "source": [
    "print(np.min(m3))\n",
    "print(np.max(m3))\n",
    "\n",
    "random1 = np.random.rand(5)\n",
    "print(random1)\n",
    "random2 = np.random.rand(5,5)\n",
    "print(random2)\n",
    "random3 = np.random.randn(5,5)\n",
    "print(random3)\n",
    "\n",
    "print('Mean:', np.mean(random3))\n",
    "print('Standard:', np.std(random3))\n",
    "\n",
    "\n",
    "\n",
    "random4 = np.random.randint(1,10,10)\n",
    "print(random4,random4>5, random4[random4>5])\n",
    "random5 = np.random.randint(1,10,[5,5])\n",
    "print(random5,random5[1],random5[1][1],random5[0:2,1:3])"
   ]
  },
  {
   "cell_type": "code",
   "execution_count": 13,
   "metadata": {},
   "outputs": [
    {
     "name": "stdout",
     "output_type": "stream",
     "text": [
      "5\n",
      "[4 8]\n"
     ]
    }
   ],
   "source": [
    "print(random4[5])\n",
    "print(random4[3:5])"
   ]
  },
  {
   "cell_type": "code",
   "execution_count": 14,
   "metadata": {},
   "outputs": [
    {
     "name": "stdout",
     "output_type": "stream",
     "text": [
      "[0.58433732 0.23239643 0.97607566 2.54606777 0.40778286 0.14067292\n",
      " 0.80678107 1.96590453 3.33714533 0.77694638] [-2.24454976 -1.15275459 -1.1201205  -0.27592675 -0.29365368 -1.43659599\n",
      " -0.75534462 -1.65280362 -0.59440404 -0.68316232 -1.11588467 -0.91093618\n",
      " -0.58305448 -0.40726481 -1.15829173]\n"
     ]
    }
   ],
   "source": [
    "random3\n",
    "print(random3[random3>0],random3[random3<0])"
   ]
  },
  {
   "cell_type": "code",
   "execution_count": 15,
   "metadata": {},
   "outputs": [
    {
     "name": "stdout",
     "output_type": "stream",
     "text": [
      "[[2 2 2 2 8]\n",
      " [2 2 2 2 5]\n",
      " [2 2 2 2 9]\n",
      " [3 8 2 8 2]\n",
      " [8 8 1 1 5]] [[2 2 2]\n",
      " [2 2 2]\n",
      " [2 2 2]]\n"
     ]
    }
   ],
   "source": [
    "random5 = np.random.randint(1,10,[5,5])\n",
    "random5[0:3,0:3]=2\n",
    "sub_matrix=random5[0:3,0:3].copy()\n",
    "print(random5,sub_matrix)"
   ]
  },
  {
   "cell_type": "code",
   "execution_count": 16,
   "metadata": {},
   "outputs": [
    {
     "name": "stdout",
     "output_type": "stream",
     "text": [
      "[[2 2 2 2 8]\n",
      " [2 2 2 2 5]\n",
      " [2 2 2 2 9]\n",
      " [3 8 2 8 2]\n",
      " [8 8 1 1 5]] [5 6 2 4 8 5 6 1 3 3] [[2 2 2 2 8]\n",
      " [2 2 2 2 5]\n",
      " [2 2 2 2 9]\n",
      " [3 8 2 8 2]\n",
      " [8 8 1 1 5]]\n"
     ]
    }
   ],
   "source": [
    "np.save('./random5',random5)\n",
    "np.savez('./random',random4=random4,random5=random5)\n",
    "r5=np.load('random5.npy')\n",
    "r=np.load('random.npz')\n",
    "print(r5,r['random4'],r['random5'])"
   ]
  },
  {
   "cell_type": "code",
   "execution_count": 17,
   "metadata": {},
   "outputs": [
    {
     "name": "stdout",
     "output_type": "stream",
     "text": [
      "[5. 6. 2. 4. 8. 5. 6. 1. 3. 3.]\n"
     ]
    }
   ],
   "source": [
    "np.savetxt('text.txt',random4,delimiter=\",\")\n",
    "r4Text=np.loadtxt('text.txt',delimiter=\",\")\n",
    "print(r4Text)"
   ]
  },
  {
   "cell_type": "code",
   "execution_count": 18,
   "metadata": {},
   "outputs": [
    {
     "name": "stdout",
     "output_type": "stream",
     "text": [
      "[14, 85, 25, 36, 17]\n",
      "[14 85 25 36 17]\n",
      "0    14\n",
      "1    85\n",
      "2    25\n",
      "3    36\n",
      "4    17\n",
      "dtype: int64\n",
      "0    14\n",
      "1    85\n",
      "2    25\n",
      "3    36\n",
      "4    17\n",
      "dtype: int64\n"
     ]
    }
   ],
   "source": [
    "import numpy as np\n",
    "import pandas as pd\n",
    "import random\n",
    "\n",
    "med_price_list = [random.randint(10, 100) for i in range(5)]\n",
    "med_price_arr=np.array(med_price_list)\n",
    "print(med_price_list)\n",
    "print(med_price_arr)\n",
    "serie_list=pd.Series(med_price_list)\n",
    "serie_array=pd.Series(med_price_arr)\n",
    "print(serie_list)\n",
    "print(serie_array)\n"
   ]
  },
  {
   "cell_type": "code",
   "execution_count": 19,
   "metadata": {},
   "outputs": [
    {
     "name": "stdout",
     "output_type": "stream",
     "text": [
      "aa    14\n",
      "bb    85\n",
      "cc    25\n",
      "dd    36\n",
      "ee    17\n",
      "dtype: int64\n",
      "aa    16.5\n",
      "bb    87.5\n",
      "cc    27.5\n",
      "dd    38.5\n",
      "ee    19.5\n",
      "dtype: float64\n"
     ]
    }
   ],
   "source": [
    "med_labels=['aa','bb','cc','dd','ee']\n",
    "med_price_list_labels=pd.Series(med_price_list,index=med_labels)\n",
    "print(med_price_list_labels)\n",
    "med_price_list_updated=med_price_list_labels+2.5\n",
    "print(med_price_list_updated)"
   ]
  },
  {
   "cell_type": "code",
   "execution_count": 20,
   "metadata": {},
   "outputs": [
    {
     "name": "stdout",
     "output_type": "stream",
     "text": [
      "  Students\n",
      "0        A\n",
      "1        B\n",
      "2        C\n",
      "3        D\n",
      "4        E\n",
      "  Students  Grades\n",
      "0        A       1\n",
      "1        B       2\n",
      "2        C       3\n",
      "3        D       4\n",
      "4        E       5\n"
     ]
    }
   ],
   "source": [
    "students=[\"A\",\"B\",\"C\",\"D\",\"E\"]\n",
    "df1=pd.DataFrame(students,columns=['Students'])\n",
    "print(df1)\n",
    "grades=[1,2,3,4,5]\n",
    "df2=pd.DataFrame({'Students':students,'Grades':grades})\n",
    "print(df2)"
   ]
  },
  {
   "cell_type": "code",
   "execution_count": 21,
   "metadata": {},
   "outputs": [
    {
     "name": "stdout",
     "output_type": "stream",
     "text": [
      "          a         b\n",
      "0  1.316283 -0.443650\n",
      "1  0.926558  0.408203\n",
      "2 -1.956333  1.830548\n",
      "3 -0.409029 -0.827963\n",
      "4 -0.275454  0.344368\n"
     ]
    }
   ],
   "source": [
    "dfRandom=pd.DataFrame(np.random.randn(5,2),columns=['a','b'])\n",
    "print(dfRandom)"
   ]
  },
  {
   "cell_type": "code",
   "execution_count": 22,
   "metadata": {},
   "outputs": [
    {
     "name": "stdout",
     "output_type": "stream",
     "text": [
      "a    11\n",
      "b    22\n",
      "c    33\n",
      "d    44\n",
      "dtype: int64\n"
     ]
    }
   ],
   "source": [
    "operators=['a','b','c','d']\n",
    "values=[11,22,33,44]\n",
    "telecom=pd.Series(values,index=operators)\n",
    "print (telecom)"
   ]
  },
  {
   "cell_type": "code",
   "execution_count": 23,
   "metadata": {},
   "outputs": [
    {
     "name": "stdout",
     "output_type": "stream",
     "text": [
      "11\n",
      "a    11\n",
      "b    22\n",
      "dtype: int64\n",
      "c    33\n",
      "d    44\n",
      "dtype: int64\n",
      "22\n",
      "b    22\n",
      "c    33\n",
      "dtype: int64\n",
      "a    11\n",
      "b    22\n",
      "c    33\n",
      "dtype: int64\n",
      "c    33\n",
      "a    11\n",
      "dtype: int64\n"
     ]
    }
   ],
   "source": [
    "\n",
    "print(telecom[0])\n",
    "print(telecom[:2])\n",
    "print(telecom[-2:])\n",
    "print(telecom['b'])\n",
    "print(telecom[[1,2]])\n",
    "print(telecom[:'c'])\n",
    "print(telecom[['c','a']])\n",
    "\n"
   ]
  },
  {
   "cell_type": "code",
   "execution_count": 24,
   "metadata": {},
   "outputs": [
    {
     "data": {
      "text/html": [
       "<div>\n",
       "<style scoped>\n",
       "    .dataframe tbody tr th:only-of-type {\n",
       "        vertical-align: middle;\n",
       "    }\n",
       "\n",
       "    .dataframe tbody tr th {\n",
       "        vertical-align: top;\n",
       "    }\n",
       "\n",
       "    .dataframe thead th {\n",
       "        text-align: right;\n",
       "    }\n",
       "</style>\n",
       "<table border=\"1\" class=\"dataframe\">\n",
       "  <thead>\n",
       "    <tr style=\"text-align: right;\">\n",
       "      <th></th>\n",
       "      <th>CustomerID</th>\n",
       "      <th>location</th>\n",
       "      <th>gender</th>\n",
       "      <th>type</th>\n",
       "      <th>quantity</th>\n",
       "      <th>total_bill</th>\n",
       "    </tr>\n",
       "  </thead>\n",
       "  <tbody>\n",
       "    <tr>\n",
       "      <th>0</th>\n",
       "      <td>CustID00</td>\n",
       "      <td>Chicago</td>\n",
       "      <td>M</td>\n",
       "      <td>Electronics</td>\n",
       "      <td>1</td>\n",
       "      <td>100</td>\n",
       "    </tr>\n",
       "    <tr>\n",
       "      <th>1</th>\n",
       "      <td>CustID01</td>\n",
       "      <td>Boston</td>\n",
       "      <td>M</td>\n",
       "      <td>Food&amp;Beverages</td>\n",
       "      <td>3</td>\n",
       "      <td>75</td>\n",
       "    </tr>\n",
       "    <tr>\n",
       "      <th>2</th>\n",
       "      <td>CustID02</td>\n",
       "      <td>Seattle</td>\n",
       "      <td>F</td>\n",
       "      <td>Food&amp;Beverages</td>\n",
       "      <td>4</td>\n",
       "      <td>125</td>\n",
       "    </tr>\n",
       "    <tr>\n",
       "      <th>3</th>\n",
       "      <td>CustID03</td>\n",
       "      <td>San Francisco</td>\n",
       "      <td>M</td>\n",
       "      <td>Medicine</td>\n",
       "      <td>2</td>\n",
       "      <td>50</td>\n",
       "    </tr>\n",
       "    <tr>\n",
       "      <th>4</th>\n",
       "      <td>CustID04</td>\n",
       "      <td>Austin</td>\n",
       "      <td>F</td>\n",
       "      <td>Beauty</td>\n",
       "      <td>1</td>\n",
       "      <td>80</td>\n",
       "    </tr>\n",
       "  </tbody>\n",
       "</table>\n",
       "</div>"
      ],
      "text/plain": [
       "  CustomerID       location gender            type  quantity  total_bill\n",
       "0   CustID00        Chicago      M     Electronics         1         100\n",
       "1   CustID01         Boston      M  Food&Beverages         3          75\n",
       "2   CustID02        Seattle      F  Food&Beverages         4         125\n",
       "3   CustID03  San Francisco      M        Medicine         2          50\n",
       "4   CustID04         Austin      F          Beauty         1          80"
      ]
     },
     "execution_count": 24,
     "metadata": {},
     "output_type": "execute_result"
    }
   ],
   "source": [
    "store_data = pd.DataFrame({'CustomerID': ['CustID00','CustID01','CustID02','CustID03','CustID04']\n",
    "                           ,'location': ['Chicago', 'Boston', 'Seattle', 'San Francisco', 'Austin']\n",
    "                           ,'gender': ['M','M','F','M','F']\n",
    "                           ,'type': ['Electronics','Food&Beverages','Food&Beverages','Medicine','Beauty']\n",
    "                           ,'quantity':[1,3,4,2,1]\n",
    "                           ,'total_bill':[100,75,125,50,80]})\n",
    "\n",
    "store_data"
   ]
  },
  {
   "cell_type": "code",
   "execution_count": 25,
   "metadata": {},
   "outputs": [
    {
     "data": {
      "text/html": [
       "<div>\n",
       "<style scoped>\n",
       "    .dataframe tbody tr th:only-of-type {\n",
       "        vertical-align: middle;\n",
       "    }\n",
       "\n",
       "    .dataframe tbody tr th {\n",
       "        vertical-align: top;\n",
       "    }\n",
       "\n",
       "    .dataframe thead th {\n",
       "        text-align: right;\n",
       "    }\n",
       "</style>\n",
       "<table border=\"1\" class=\"dataframe\">\n",
       "  <thead>\n",
       "    <tr style=\"text-align: right;\">\n",
       "      <th></th>\n",
       "      <th>CustomerID</th>\n",
       "      <th>location</th>\n",
       "      <th>gender</th>\n",
       "      <th>type</th>\n",
       "      <th>quantity</th>\n",
       "      <th>total_bill</th>\n",
       "    </tr>\n",
       "  </thead>\n",
       "  <tbody>\n",
       "    <tr>\n",
       "      <th>0</th>\n",
       "      <td>CustID00</td>\n",
       "      <td>Chicago</td>\n",
       "      <td>M</td>\n",
       "      <td>Electronics</td>\n",
       "      <td>1</td>\n",
       "      <td>100</td>\n",
       "    </tr>\n",
       "    <tr>\n",
       "      <th>1</th>\n",
       "      <td>CustID01</td>\n",
       "      <td>Boston</td>\n",
       "      <td>M</td>\n",
       "      <td>Food&amp;Beverages</td>\n",
       "      <td>3</td>\n",
       "      <td>75</td>\n",
       "    </tr>\n",
       "  </tbody>\n",
       "</table>\n",
       "</div>"
      ],
      "text/plain": [
       "  CustomerID location gender            type  quantity  total_bill\n",
       "0   CustID00  Chicago      M     Electronics         1         100\n",
       "1   CustID01   Boston      M  Food&Beverages         3          75"
      ]
     },
     "execution_count": 25,
     "metadata": {},
     "output_type": "execute_result"
    }
   ],
   "source": [
    "store_data[:2]"
   ]
  },
  {
   "cell_type": "code",
   "execution_count": 26,
   "metadata": {},
   "outputs": [
    {
     "data": {
      "text/plain": [
       "0          Chicago\n",
       "1           Boston\n",
       "2          Seattle\n",
       "3    San Francisco\n",
       "4           Austin\n",
       "Name: location, dtype: object"
      ]
     },
     "execution_count": 26,
     "metadata": {},
     "output_type": "execute_result"
    }
   ],
   "source": [
    "store_data['location']"
   ]
  },
  {
   "cell_type": "code",
   "execution_count": 27,
   "metadata": {},
   "outputs": [
    {
     "data": {
      "text/html": [
       "<div>\n",
       "<style scoped>\n",
       "    .dataframe tbody tr th:only-of-type {\n",
       "        vertical-align: middle;\n",
       "    }\n",
       "\n",
       "    .dataframe tbody tr th {\n",
       "        vertical-align: top;\n",
       "    }\n",
       "\n",
       "    .dataframe thead th {\n",
       "        text-align: right;\n",
       "    }\n",
       "</style>\n",
       "<table border=\"1\" class=\"dataframe\">\n",
       "  <thead>\n",
       "    <tr style=\"text-align: right;\">\n",
       "      <th></th>\n",
       "      <th>CustomerID</th>\n",
       "      <th>location</th>\n",
       "      <th>gender</th>\n",
       "      <th>type</th>\n",
       "      <th>quantity</th>\n",
       "      <th>total_bill</th>\n",
       "    </tr>\n",
       "  </thead>\n",
       "  <tbody>\n",
       "    <tr>\n",
       "      <th>0</th>\n",
       "      <td>CustID00</td>\n",
       "      <td>Chicago</td>\n",
       "      <td>M</td>\n",
       "      <td>Electronics</td>\n",
       "      <td>1</td>\n",
       "      <td>100</td>\n",
       "    </tr>\n",
       "    <tr>\n",
       "      <th>2</th>\n",
       "      <td>CustID02</td>\n",
       "      <td>Seattle</td>\n",
       "      <td>F</td>\n",
       "      <td>Food&amp;Beverages</td>\n",
       "      <td>4</td>\n",
       "      <td>125</td>\n",
       "    </tr>\n",
       "    <tr>\n",
       "      <th>4</th>\n",
       "      <td>CustID04</td>\n",
       "      <td>Austin</td>\n",
       "      <td>F</td>\n",
       "      <td>Beauty</td>\n",
       "      <td>1</td>\n",
       "      <td>80</td>\n",
       "    </tr>\n",
       "  </tbody>\n",
       "</table>\n",
       "</div>"
      ],
      "text/plain": [
       "  CustomerID location gender            type  quantity  total_bill\n",
       "0   CustID00  Chicago      M     Electronics         1         100\n",
       "2   CustID02  Seattle      F  Food&Beverages         4         125\n",
       "4   CustID04   Austin      F          Beauty         1          80"
      ]
     },
     "execution_count": 27,
     "metadata": {},
     "output_type": "execute_result"
    }
   ],
   "source": [
    "store_data[::2]"
   ]
  },
  {
   "cell_type": "code",
   "execution_count": 28,
   "metadata": {},
   "outputs": [
    {
     "data": {
      "text/html": [
       "<div>\n",
       "<style scoped>\n",
       "    .dataframe tbody tr th:only-of-type {\n",
       "        vertical-align: middle;\n",
       "    }\n",
       "\n",
       "    .dataframe tbody tr th {\n",
       "        vertical-align: top;\n",
       "    }\n",
       "\n",
       "    .dataframe thead th {\n",
       "        text-align: right;\n",
       "    }\n",
       "</style>\n",
       "<table border=\"1\" class=\"dataframe\">\n",
       "  <thead>\n",
       "    <tr style=\"text-align: right;\">\n",
       "      <th></th>\n",
       "      <th>CustomerID</th>\n",
       "      <th>location</th>\n",
       "      <th>gender</th>\n",
       "      <th>type</th>\n",
       "      <th>quantity</th>\n",
       "      <th>total_bill</th>\n",
       "    </tr>\n",
       "  </thead>\n",
       "  <tbody>\n",
       "    <tr>\n",
       "      <th>4</th>\n",
       "      <td>CustID04</td>\n",
       "      <td>Austin</td>\n",
       "      <td>F</td>\n",
       "      <td>Beauty</td>\n",
       "      <td>1</td>\n",
       "      <td>80</td>\n",
       "    </tr>\n",
       "    <tr>\n",
       "      <th>3</th>\n",
       "      <td>CustID03</td>\n",
       "      <td>San Francisco</td>\n",
       "      <td>M</td>\n",
       "      <td>Medicine</td>\n",
       "      <td>2</td>\n",
       "      <td>50</td>\n",
       "    </tr>\n",
       "    <tr>\n",
       "      <th>2</th>\n",
       "      <td>CustID02</td>\n",
       "      <td>Seattle</td>\n",
       "      <td>F</td>\n",
       "      <td>Food&amp;Beverages</td>\n",
       "      <td>4</td>\n",
       "      <td>125</td>\n",
       "    </tr>\n",
       "    <tr>\n",
       "      <th>1</th>\n",
       "      <td>CustID01</td>\n",
       "      <td>Boston</td>\n",
       "      <td>M</td>\n",
       "      <td>Food&amp;Beverages</td>\n",
       "      <td>3</td>\n",
       "      <td>75</td>\n",
       "    </tr>\n",
       "    <tr>\n",
       "      <th>0</th>\n",
       "      <td>CustID00</td>\n",
       "      <td>Chicago</td>\n",
       "      <td>M</td>\n",
       "      <td>Electronics</td>\n",
       "      <td>1</td>\n",
       "      <td>100</td>\n",
       "    </tr>\n",
       "  </tbody>\n",
       "</table>\n",
       "</div>"
      ],
      "text/plain": [
       "  CustomerID       location gender            type  quantity  total_bill\n",
       "4   CustID04         Austin      F          Beauty         1          80\n",
       "3   CustID03  San Francisco      M        Medicine         2          50\n",
       "2   CustID02        Seattle      F  Food&Beverages         4         125\n",
       "1   CustID01         Boston      M  Food&Beverages         3          75\n",
       "0   CustID00        Chicago      M     Electronics         1         100"
      ]
     },
     "execution_count": 28,
     "metadata": {},
     "output_type": "execute_result"
    }
   ],
   "source": [
    "store_data[::-1]"
   ]
  },
  {
   "cell_type": "code",
   "execution_count": 29,
   "metadata": {},
   "outputs": [
    {
     "name": "stdout",
     "output_type": "stream",
     "text": [
      "  CustomerID location gender         type  quantity  total_bill\n",
      "0   CustID00  Chicago      M  Electronics         1         100\n",
      "CustomerID          CustID01\n",
      "location              Boston\n",
      "gender                     M\n",
      "type          Food&Beverages\n",
      "quantity                   3\n",
      "total_bill                75\n",
      "Name: 1, dtype: object\n",
      "  gender  quantity\n",
      "1      M         3\n",
      "4      F         1\n",
      "  CustomerID  quantity\n",
      "1   CustID01         3\n",
      "4   CustID04         1\n"
     ]
    }
   ],
   "source": [
    "print(store_data[:1])\n",
    "print(store_data.loc[1])\n",
    "print(store_data.loc[[1,4],['gender','quantity']])\n",
    "print(store_data.iloc[[1,4],[0,4]])\n"
   ]
  },
  {
   "cell_type": "code",
   "execution_count": 30,
   "metadata": {},
   "outputs": [
    {
     "name": "stdout",
     "output_type": "stream",
     "text": [
      "  CustomerID       location gender            type  quantity  total_bill\n",
      "0   CustID00        Chicago      M     Electronics         1         100\n",
      "1   CustID01         Bogota      M  Food&Beverages         3          75\n",
      "2   CustID02        Seattle      F  Food&Beverages         4         125\n",
      "3   CustID03  San Francisco      M        Medicine         2          50\n",
      "4   CustID04         Austin      F          Beauty         1          80\n"
     ]
    }
   ],
   "source": [
    "store_data.loc[1,'location']='Bogota'\n",
    "print(store_data)"
   ]
  },
  {
   "cell_type": "code",
   "execution_count": 31,
   "metadata": {},
   "outputs": [
    {
     "name": "stdout",
     "output_type": "stream",
     "text": [
      "0     True\n",
      "1     True\n",
      "2    False\n",
      "3     True\n",
      "4    False\n",
      "Name: gender, dtype: bool\n",
      "  CustomerID       location gender            type  quantity  total_bill\n",
      "0   CustID00        Chicago      M     Electronics         1         100\n",
      "1   CustID01         Bogota      M  Food&Beverages         3          75\n",
      "3   CustID03  San Francisco      M        Medicine         2          50\n"
     ]
    }
   ],
   "source": [
    "print(store_data['gender']=='M')\n",
    "print(store_data.loc[store_data['gender']=='M'])\n"
   ]
  },
  {
   "cell_type": "code",
   "execution_count": 32,
   "metadata": {},
   "outputs": [
    {
     "data": {
      "text/html": [
       "<div>\n",
       "<style scoped>\n",
       "    .dataframe tbody tr th:only-of-type {\n",
       "        vertical-align: middle;\n",
       "    }\n",
       "\n",
       "    .dataframe tbody tr th {\n",
       "        vertical-align: top;\n",
       "    }\n",
       "\n",
       "    .dataframe thead th {\n",
       "        text-align: right;\n",
       "    }\n",
       "</style>\n",
       "<table border=\"1\" class=\"dataframe\">\n",
       "  <thead>\n",
       "    <tr style=\"text-align: right;\">\n",
       "      <th></th>\n",
       "      <th>CustomerID</th>\n",
       "      <th>location</th>\n",
       "      <th>gender</th>\n",
       "      <th>type</th>\n",
       "      <th>quantity</th>\n",
       "      <th>total_bill</th>\n",
       "      <th>rating</th>\n",
       "    </tr>\n",
       "  </thead>\n",
       "  <tbody>\n",
       "    <tr>\n",
       "      <th>0</th>\n",
       "      <td>CustID00</td>\n",
       "      <td>Chicago</td>\n",
       "      <td>M</td>\n",
       "      <td>Electronics</td>\n",
       "      <td>1</td>\n",
       "      <td>100</td>\n",
       "      <td>1</td>\n",
       "    </tr>\n",
       "    <tr>\n",
       "      <th>1</th>\n",
       "      <td>CustID01</td>\n",
       "      <td>Bogota</td>\n",
       "      <td>M</td>\n",
       "      <td>Food&amp;Beverages</td>\n",
       "      <td>3</td>\n",
       "      <td>75</td>\n",
       "      <td>2</td>\n",
       "    </tr>\n",
       "    <tr>\n",
       "      <th>2</th>\n",
       "      <td>CustID02</td>\n",
       "      <td>Seattle</td>\n",
       "      <td>F</td>\n",
       "      <td>Food&amp;Beverages</td>\n",
       "      <td>4</td>\n",
       "      <td>125</td>\n",
       "      <td>3</td>\n",
       "    </tr>\n",
       "    <tr>\n",
       "      <th>3</th>\n",
       "      <td>CustID03</td>\n",
       "      <td>San Francisco</td>\n",
       "      <td>M</td>\n",
       "      <td>Medicine</td>\n",
       "      <td>2</td>\n",
       "      <td>50</td>\n",
       "      <td>4</td>\n",
       "    </tr>\n",
       "    <tr>\n",
       "      <th>4</th>\n",
       "      <td>CustID04</td>\n",
       "      <td>Austin</td>\n",
       "      <td>F</td>\n",
       "      <td>Beauty</td>\n",
       "      <td>1</td>\n",
       "      <td>80</td>\n",
       "      <td>5</td>\n",
       "    </tr>\n",
       "  </tbody>\n",
       "</table>\n",
       "</div>"
      ],
      "text/plain": [
       "  CustomerID       location gender            type  quantity  total_bill  \\\n",
       "0   CustID00        Chicago      M     Electronics         1         100   \n",
       "1   CustID01         Bogota      M  Food&Beverages         3          75   \n",
       "2   CustID02        Seattle      F  Food&Beverages         4         125   \n",
       "3   CustID03  San Francisco      M        Medicine         2          50   \n",
       "4   CustID04         Austin      F          Beauty         1          80   \n",
       "\n",
       "   rating  \n",
       "0       1  \n",
       "1       2  \n",
       "2       3  \n",
       "3       4  \n",
       "4       5  "
      ]
     },
     "execution_count": 32,
     "metadata": {},
     "output_type": "execute_result"
    }
   ],
   "source": [
    "store_data['rating']=[1,2,3,4,5]\n",
    "store_data"
   ]
  },
  {
   "cell_type": "code",
   "execution_count": 33,
   "metadata": {},
   "outputs": [
    {
     "name": "stdout",
     "output_type": "stream",
     "text": [
      "  CustomerID       location gender            type  quantity  total_bill  \\\n",
      "0   CustID00        Chicago      M     Electronics         1         100   \n",
      "1   CustID01         Bogota      M  Food&Beverages         3          75   \n",
      "2   CustID02        Seattle      F  Food&Beverages         4         125   \n",
      "3   CustID03  San Francisco      M        Medicine         2          50   \n",
      "4   CustID04         Austin      F          Beauty         1          80   \n",
      "\n",
      "   rating  \n",
      "0       1  \n",
      "1       2  \n",
      "2       3  \n",
      "3       4  \n",
      "4       5  \n",
      "        location gender            type  quantity  total_bill  rating\n",
      "0        Chicago      M     Electronics         1         100       1\n",
      "1         Bogota      M  Food&Beverages         3          75       2\n",
      "2        Seattle      F  Food&Beverages         4         125       3\n",
      "3  San Francisco      M        Medicine         2          50       4\n",
      "4         Austin      F          Beauty         1          80       5\n"
     ]
    }
   ],
   "source": [
    "new_data=store_data.drop('CustomerID',axis=1)\n",
    "print(store_data)\n",
    "print(new_data)"
   ]
  },
  {
   "cell_type": "code",
   "execution_count": 34,
   "metadata": {},
   "outputs": [],
   "source": [
    "store_data.drop('CustomerID',axis=1,inplace=True)"
   ]
  },
  {
   "cell_type": "code",
   "execution_count": 37,
   "metadata": {},
   "outputs": [
    {
     "data": {
      "text/html": [
       "<div>\n",
       "<style scoped>\n",
       "    .dataframe tbody tr th:only-of-type {\n",
       "        vertical-align: middle;\n",
       "    }\n",
       "\n",
       "    .dataframe tbody tr th {\n",
       "        vertical-align: top;\n",
       "    }\n",
       "\n",
       "    .dataframe thead th {\n",
       "        text-align: right;\n",
       "    }\n",
       "</style>\n",
       "<table border=\"1\" class=\"dataframe\">\n",
       "  <thead>\n",
       "    <tr style=\"text-align: right;\">\n",
       "      <th></th>\n",
       "      <th>location</th>\n",
       "      <th>gender</th>\n",
       "      <th>type</th>\n",
       "      <th>quantity</th>\n",
       "      <th>total_bill</th>\n",
       "      <th>rating</th>\n",
       "    </tr>\n",
       "  </thead>\n",
       "  <tbody>\n",
       "    <tr>\n",
       "      <th>0</th>\n",
       "      <td>Bogota</td>\n",
       "      <td>M</td>\n",
       "      <td>Food&amp;Beverages</td>\n",
       "      <td>3</td>\n",
       "      <td>75</td>\n",
       "      <td>2</td>\n",
       "    </tr>\n",
       "    <tr>\n",
       "      <th>1</th>\n",
       "      <td>Seattle</td>\n",
       "      <td>F</td>\n",
       "      <td>Food&amp;Beverages</td>\n",
       "      <td>4</td>\n",
       "      <td>125</td>\n",
       "      <td>3</td>\n",
       "    </tr>\n",
       "    <tr>\n",
       "      <th>2</th>\n",
       "      <td>San Francisco</td>\n",
       "      <td>M</td>\n",
       "      <td>Medicine</td>\n",
       "      <td>2</td>\n",
       "      <td>50</td>\n",
       "      <td>4</td>\n",
       "    </tr>\n",
       "    <tr>\n",
       "      <th>3</th>\n",
       "      <td>Austin</td>\n",
       "      <td>F</td>\n",
       "      <td>Beauty</td>\n",
       "      <td>1</td>\n",
       "      <td>80</td>\n",
       "      <td>5</td>\n",
       "    </tr>\n",
       "  </tbody>\n",
       "</table>\n",
       "</div>"
      ],
      "text/plain": [
       "        location gender            type  quantity  total_bill  rating\n",
       "0         Bogota      M  Food&Beverages         3          75       2\n",
       "1        Seattle      F  Food&Beverages         4         125       3\n",
       "2  San Francisco      M        Medicine         2          50       4\n",
       "3         Austin      F          Beauty         1          80       5"
      ]
     },
     "execution_count": 37,
     "metadata": {},
     "output_type": "execute_result"
    }
   ],
   "source": [
    "new_data=store_data.drop(0,axis=0)\n",
    "store_data\n",
    "new_data.reset_index(drop=True,inplace=True)\n",
    "new_data"
   ]
  },
  {
   "cell_type": "code",
   "execution_count": 41,
   "metadata": {},
   "outputs": [
    {
     "name": "stdout",
     "output_type": "stream",
     "text": [
      "  customerID category first_visit  sales\n",
      "0        101   Medium         yes    123\n",
      "1        102   Medium          no     52\n",
      "2        103     High         yes    214\n",
      "3        104      Low         yes    663\n",
      "  customerID  distance  sales\n",
      "4        101        12    123\n",
      "5        103         9    214\n",
      "6        104        44    663\n",
      "7        105        21    331\n"
     ]
    }
   ],
   "source": [
    "cust1 = pd.DataFrame({\"customerID\":['101','102','103','104'], \n",
    "                        'category': ['Medium','Medium','High','Low'],\n",
    "                        'first_visit': ['yes','no','yes','yes'],\n",
    "                        'sales': [123,52,214,663]},index=[0,1,2,3])\n",
    "\n",
    "cust2 = pd.DataFrame({\"customerID\":['101','103','104','105'], \n",
    "                    'distance': [12,9,44,21],\n",
    "                    'sales': [123,214,663,331]},index=[4,5,6,7])\n",
    "print(cust1)\n",
    "print(cust2)"
   ]
  },
  {
   "cell_type": "code",
   "execution_count": 44,
   "metadata": {},
   "outputs": [
    {
     "data": {
      "text/html": [
       "<div>\n",
       "<style scoped>\n",
       "    .dataframe tbody tr th:only-of-type {\n",
       "        vertical-align: middle;\n",
       "    }\n",
       "\n",
       "    .dataframe tbody tr th {\n",
       "        vertical-align: top;\n",
       "    }\n",
       "\n",
       "    .dataframe thead th {\n",
       "        text-align: right;\n",
       "    }\n",
       "</style>\n",
       "<table border=\"1\" class=\"dataframe\">\n",
       "  <thead>\n",
       "    <tr style=\"text-align: right;\">\n",
       "      <th></th>\n",
       "      <th>customerID</th>\n",
       "      <th>category</th>\n",
       "      <th>first_visit</th>\n",
       "      <th>sales</th>\n",
       "      <th>distance</th>\n",
       "    </tr>\n",
       "  </thead>\n",
       "  <tbody>\n",
       "    <tr>\n",
       "      <th>0</th>\n",
       "      <td>101</td>\n",
       "      <td>Medium</td>\n",
       "      <td>yes</td>\n",
       "      <td>123</td>\n",
       "      <td>NaN</td>\n",
       "    </tr>\n",
       "    <tr>\n",
       "      <th>1</th>\n",
       "      <td>102</td>\n",
       "      <td>Medium</td>\n",
       "      <td>no</td>\n",
       "      <td>52</td>\n",
       "      <td>NaN</td>\n",
       "    </tr>\n",
       "    <tr>\n",
       "      <th>2</th>\n",
       "      <td>103</td>\n",
       "      <td>High</td>\n",
       "      <td>yes</td>\n",
       "      <td>214</td>\n",
       "      <td>NaN</td>\n",
       "    </tr>\n",
       "    <tr>\n",
       "      <th>3</th>\n",
       "      <td>104</td>\n",
       "      <td>Low</td>\n",
       "      <td>yes</td>\n",
       "      <td>663</td>\n",
       "      <td>NaN</td>\n",
       "    </tr>\n",
       "    <tr>\n",
       "      <th>4</th>\n",
       "      <td>101</td>\n",
       "      <td>NaN</td>\n",
       "      <td>NaN</td>\n",
       "      <td>123</td>\n",
       "      <td>12.0</td>\n",
       "    </tr>\n",
       "    <tr>\n",
       "      <th>5</th>\n",
       "      <td>103</td>\n",
       "      <td>NaN</td>\n",
       "      <td>NaN</td>\n",
       "      <td>214</td>\n",
       "      <td>9.0</td>\n",
       "    </tr>\n",
       "    <tr>\n",
       "      <th>6</th>\n",
       "      <td>104</td>\n",
       "      <td>NaN</td>\n",
       "      <td>NaN</td>\n",
       "      <td>663</td>\n",
       "      <td>44.0</td>\n",
       "    </tr>\n",
       "    <tr>\n",
       "      <th>7</th>\n",
       "      <td>105</td>\n",
       "      <td>NaN</td>\n",
       "      <td>NaN</td>\n",
       "      <td>331</td>\n",
       "      <td>21.0</td>\n",
       "    </tr>\n",
       "  </tbody>\n",
       "</table>\n",
       "</div>"
      ],
      "text/plain": [
       "  customerID category first_visit  sales  distance\n",
       "0        101   Medium         yes    123       NaN\n",
       "1        102   Medium          no     52       NaN\n",
       "2        103     High         yes    214       NaN\n",
       "3        104      Low         yes    663       NaN\n",
       "4        101      NaN         NaN    123      12.0\n",
       "5        103      NaN         NaN    214       9.0\n",
       "6        104      NaN         NaN    663      44.0\n",
       "7        105      NaN         NaN    331      21.0"
      ]
     },
     "execution_count": 44,
     "metadata": {},
     "output_type": "execute_result"
    }
   ],
   "source": [
    "pd.concat([cust1,cust2],axis=0)"
   ]
  },
  {
   "cell_type": "code",
   "execution_count": 46,
   "metadata": {},
   "outputs": [
    {
     "data": {
      "text/html": [
       "<div>\n",
       "<style scoped>\n",
       "    .dataframe tbody tr th:only-of-type {\n",
       "        vertical-align: middle;\n",
       "    }\n",
       "\n",
       "    .dataframe tbody tr th {\n",
       "        vertical-align: top;\n",
       "    }\n",
       "\n",
       "    .dataframe thead th {\n",
       "        text-align: right;\n",
       "    }\n",
       "</style>\n",
       "<table border=\"1\" class=\"dataframe\">\n",
       "  <thead>\n",
       "    <tr style=\"text-align: right;\">\n",
       "      <th></th>\n",
       "      <th>customerID</th>\n",
       "      <th>category</th>\n",
       "      <th>first_visit</th>\n",
       "      <th>sales</th>\n",
       "      <th>customerID</th>\n",
       "      <th>distance</th>\n",
       "      <th>sales</th>\n",
       "    </tr>\n",
       "  </thead>\n",
       "  <tbody>\n",
       "    <tr>\n",
       "      <th>0</th>\n",
       "      <td>101</td>\n",
       "      <td>Medium</td>\n",
       "      <td>yes</td>\n",
       "      <td>123.0</td>\n",
       "      <td>NaN</td>\n",
       "      <td>NaN</td>\n",
       "      <td>NaN</td>\n",
       "    </tr>\n",
       "    <tr>\n",
       "      <th>1</th>\n",
       "      <td>102</td>\n",
       "      <td>Medium</td>\n",
       "      <td>no</td>\n",
       "      <td>52.0</td>\n",
       "      <td>NaN</td>\n",
       "      <td>NaN</td>\n",
       "      <td>NaN</td>\n",
       "    </tr>\n",
       "    <tr>\n",
       "      <th>2</th>\n",
       "      <td>103</td>\n",
       "      <td>High</td>\n",
       "      <td>yes</td>\n",
       "      <td>214.0</td>\n",
       "      <td>NaN</td>\n",
       "      <td>NaN</td>\n",
       "      <td>NaN</td>\n",
       "    </tr>\n",
       "    <tr>\n",
       "      <th>3</th>\n",
       "      <td>104</td>\n",
       "      <td>Low</td>\n",
       "      <td>yes</td>\n",
       "      <td>663.0</td>\n",
       "      <td>NaN</td>\n",
       "      <td>NaN</td>\n",
       "      <td>NaN</td>\n",
       "    </tr>\n",
       "    <tr>\n",
       "      <th>4</th>\n",
       "      <td>NaN</td>\n",
       "      <td>NaN</td>\n",
       "      <td>NaN</td>\n",
       "      <td>NaN</td>\n",
       "      <td>101</td>\n",
       "      <td>12.0</td>\n",
       "      <td>123.0</td>\n",
       "    </tr>\n",
       "    <tr>\n",
       "      <th>5</th>\n",
       "      <td>NaN</td>\n",
       "      <td>NaN</td>\n",
       "      <td>NaN</td>\n",
       "      <td>NaN</td>\n",
       "      <td>103</td>\n",
       "      <td>9.0</td>\n",
       "      <td>214.0</td>\n",
       "    </tr>\n",
       "    <tr>\n",
       "      <th>6</th>\n",
       "      <td>NaN</td>\n",
       "      <td>NaN</td>\n",
       "      <td>NaN</td>\n",
       "      <td>NaN</td>\n",
       "      <td>104</td>\n",
       "      <td>44.0</td>\n",
       "      <td>663.0</td>\n",
       "    </tr>\n",
       "    <tr>\n",
       "      <th>7</th>\n",
       "      <td>NaN</td>\n",
       "      <td>NaN</td>\n",
       "      <td>NaN</td>\n",
       "      <td>NaN</td>\n",
       "      <td>105</td>\n",
       "      <td>21.0</td>\n",
       "      <td>331.0</td>\n",
       "    </tr>\n",
       "  </tbody>\n",
       "</table>\n",
       "</div>"
      ],
      "text/plain": [
       "  customerID category first_visit  sales customerID  distance  sales\n",
       "0        101   Medium         yes  123.0        NaN       NaN    NaN\n",
       "1        102   Medium          no   52.0        NaN       NaN    NaN\n",
       "2        103     High         yes  214.0        NaN       NaN    NaN\n",
       "3        104      Low         yes  663.0        NaN       NaN    NaN\n",
       "4        NaN      NaN         NaN    NaN        101      12.0  123.0\n",
       "5        NaN      NaN         NaN    NaN        103       9.0  214.0\n",
       "6        NaN      NaN         NaN    NaN        104      44.0  663.0\n",
       "7        NaN      NaN         NaN    NaN        105      21.0  331.0"
      ]
     },
     "execution_count": 46,
     "metadata": {},
     "output_type": "execute_result"
    }
   ],
   "source": [
    "pd.concat([cust1,cust2],axis=1)\n"
   ]
  },
  {
   "cell_type": "code",
   "execution_count": 48,
   "metadata": {},
   "outputs": [
    {
     "data": {
      "text/html": [
       "<div>\n",
       "<style scoped>\n",
       "    .dataframe tbody tr th:only-of-type {\n",
       "        vertical-align: middle;\n",
       "    }\n",
       "\n",
       "    .dataframe tbody tr th {\n",
       "        vertical-align: top;\n",
       "    }\n",
       "\n",
       "    .dataframe thead th {\n",
       "        text-align: right;\n",
       "    }\n",
       "</style>\n",
       "<table border=\"1\" class=\"dataframe\">\n",
       "  <thead>\n",
       "    <tr style=\"text-align: right;\">\n",
       "      <th></th>\n",
       "      <th>customerID</th>\n",
       "      <th>category</th>\n",
       "      <th>first_visit</th>\n",
       "      <th>sales_x</th>\n",
       "      <th>distance</th>\n",
       "      <th>sales_y</th>\n",
       "    </tr>\n",
       "  </thead>\n",
       "  <tbody>\n",
       "    <tr>\n",
       "      <th>0</th>\n",
       "      <td>101</td>\n",
       "      <td>Medium</td>\n",
       "      <td>yes</td>\n",
       "      <td>123.0</td>\n",
       "      <td>12.0</td>\n",
       "      <td>123.0</td>\n",
       "    </tr>\n",
       "    <tr>\n",
       "      <th>1</th>\n",
       "      <td>102</td>\n",
       "      <td>Medium</td>\n",
       "      <td>no</td>\n",
       "      <td>52.0</td>\n",
       "      <td>NaN</td>\n",
       "      <td>NaN</td>\n",
       "    </tr>\n",
       "    <tr>\n",
       "      <th>2</th>\n",
       "      <td>103</td>\n",
       "      <td>High</td>\n",
       "      <td>yes</td>\n",
       "      <td>214.0</td>\n",
       "      <td>9.0</td>\n",
       "      <td>214.0</td>\n",
       "    </tr>\n",
       "    <tr>\n",
       "      <th>3</th>\n",
       "      <td>104</td>\n",
       "      <td>Low</td>\n",
       "      <td>yes</td>\n",
       "      <td>663.0</td>\n",
       "      <td>44.0</td>\n",
       "      <td>663.0</td>\n",
       "    </tr>\n",
       "    <tr>\n",
       "      <th>4</th>\n",
       "      <td>105</td>\n",
       "      <td>NaN</td>\n",
       "      <td>NaN</td>\n",
       "      <td>NaN</td>\n",
       "      <td>21.0</td>\n",
       "      <td>331.0</td>\n",
       "    </tr>\n",
       "  </tbody>\n",
       "</table>\n",
       "</div>"
      ],
      "text/plain": [
       "  customerID category first_visit  sales_x  distance  sales_y\n",
       "0        101   Medium         yes    123.0      12.0    123.0\n",
       "1        102   Medium          no     52.0       NaN      NaN\n",
       "2        103     High         yes    214.0       9.0    214.0\n",
       "3        104      Low         yes    663.0      44.0    663.0\n",
       "4        105      NaN         NaN      NaN      21.0    331.0"
      ]
     },
     "execution_count": 48,
     "metadata": {},
     "output_type": "execute_result"
    }
   ],
   "source": [
    "#Union of\n",
    "pd.merge(cust1,cust2,how='outer',on='customerID')"
   ]
  },
  {
   "cell_type": "code",
   "execution_count": 50,
   "metadata": {},
   "outputs": [
    {
     "data": {
      "text/html": [
       "<div>\n",
       "<style scoped>\n",
       "    .dataframe tbody tr th:only-of-type {\n",
       "        vertical-align: middle;\n",
       "    }\n",
       "\n",
       "    .dataframe tbody tr th {\n",
       "        vertical-align: top;\n",
       "    }\n",
       "\n",
       "    .dataframe thead th {\n",
       "        text-align: right;\n",
       "    }\n",
       "</style>\n",
       "<table border=\"1\" class=\"dataframe\">\n",
       "  <thead>\n",
       "    <tr style=\"text-align: right;\">\n",
       "      <th></th>\n",
       "      <th>customerID</th>\n",
       "      <th>category</th>\n",
       "      <th>first_visit</th>\n",
       "      <th>sales_x</th>\n",
       "      <th>distance</th>\n",
       "      <th>sales_y</th>\n",
       "    </tr>\n",
       "  </thead>\n",
       "  <tbody>\n",
       "    <tr>\n",
       "      <th>0</th>\n",
       "      <td>101</td>\n",
       "      <td>Medium</td>\n",
       "      <td>yes</td>\n",
       "      <td>123</td>\n",
       "      <td>12</td>\n",
       "      <td>123</td>\n",
       "    </tr>\n",
       "    <tr>\n",
       "      <th>1</th>\n",
       "      <td>103</td>\n",
       "      <td>High</td>\n",
       "      <td>yes</td>\n",
       "      <td>214</td>\n",
       "      <td>9</td>\n",
       "      <td>214</td>\n",
       "    </tr>\n",
       "    <tr>\n",
       "      <th>2</th>\n",
       "      <td>104</td>\n",
       "      <td>Low</td>\n",
       "      <td>yes</td>\n",
       "      <td>663</td>\n",
       "      <td>44</td>\n",
       "      <td>663</td>\n",
       "    </tr>\n",
       "  </tbody>\n",
       "</table>\n",
       "</div>"
      ],
      "text/plain": [
       "  customerID category first_visit  sales_x  distance  sales_y\n",
       "0        101   Medium         yes      123        12      123\n",
       "1        103     High         yes      214         9      214\n",
       "2        104      Low         yes      663        44      663"
      ]
     },
     "execution_count": 50,
     "metadata": {},
     "output_type": "execute_result"
    }
   ],
   "source": [
    "#Intersection of\n",
    "pd.merge(cust1,cust2,how='inner',on='customerID')"
   ]
  },
  {
   "cell_type": "code",
   "execution_count": 52,
   "metadata": {},
   "outputs": [
    {
     "data": {
      "text/html": [
       "<div>\n",
       "<style scoped>\n",
       "    .dataframe tbody tr th:only-of-type {\n",
       "        vertical-align: middle;\n",
       "    }\n",
       "\n",
       "    .dataframe tbody tr th {\n",
       "        vertical-align: top;\n",
       "    }\n",
       "\n",
       "    .dataframe thead th {\n",
       "        text-align: right;\n",
       "    }\n",
       "</style>\n",
       "<table border=\"1\" class=\"dataframe\">\n",
       "  <thead>\n",
       "    <tr style=\"text-align: right;\">\n",
       "      <th></th>\n",
       "      <th>customerID</th>\n",
       "      <th>category</th>\n",
       "      <th>first_visit</th>\n",
       "      <th>sales_x</th>\n",
       "      <th>distance</th>\n",
       "      <th>sales_y</th>\n",
       "    </tr>\n",
       "  </thead>\n",
       "  <tbody>\n",
       "    <tr>\n",
       "      <th>0</th>\n",
       "      <td>101</td>\n",
       "      <td>Medium</td>\n",
       "      <td>yes</td>\n",
       "      <td>123.0</td>\n",
       "      <td>12</td>\n",
       "      <td>123</td>\n",
       "    </tr>\n",
       "    <tr>\n",
       "      <th>1</th>\n",
       "      <td>103</td>\n",
       "      <td>High</td>\n",
       "      <td>yes</td>\n",
       "      <td>214.0</td>\n",
       "      <td>9</td>\n",
       "      <td>214</td>\n",
       "    </tr>\n",
       "    <tr>\n",
       "      <th>2</th>\n",
       "      <td>104</td>\n",
       "      <td>Low</td>\n",
       "      <td>yes</td>\n",
       "      <td>663.0</td>\n",
       "      <td>44</td>\n",
       "      <td>663</td>\n",
       "    </tr>\n",
       "    <tr>\n",
       "      <th>3</th>\n",
       "      <td>105</td>\n",
       "      <td>NaN</td>\n",
       "      <td>NaN</td>\n",
       "      <td>NaN</td>\n",
       "      <td>21</td>\n",
       "      <td>331</td>\n",
       "    </tr>\n",
       "  </tbody>\n",
       "</table>\n",
       "</div>"
      ],
      "text/plain": [
       "  customerID category first_visit  sales_x  distance  sales_y\n",
       "0        101   Medium         yes    123.0        12      123\n",
       "1        103     High         yes    214.0         9      214\n",
       "2        104      Low         yes    663.0        44      663\n",
       "3        105      NaN         NaN      NaN        21      331"
      ]
     },
     "execution_count": 52,
     "metadata": {},
     "output_type": "execute_result"
    }
   ],
   "source": [
    "\n",
    "pd.merge(cust1,cust2,how='right',on='customerID')\n"
   ]
  },
  {
   "cell_type": "code",
   "execution_count": 58,
   "metadata": {},
   "outputs": [
    {
     "name": "stdout",
     "output_type": "stream",
     "text": [
      "     Q1   Q2\n",
      "I0  101  201\n",
      "I1  102  202\n",
      "I2  103  203\n",
      "     Q3   Q4\n",
      "I0  301  401\n",
      "I2  302  402\n",
      "I3  303  403\n"
     ]
    }
   ],
   "source": [
    "quarters1 = pd.DataFrame({'Q1': [101,102,103],\n",
    "                              'Q2': [201,202,203]},\n",
    "                               index=['I0','I1','I2'])\n",
    "quarters2 = pd.DataFrame({'Q3': [301,302,303],\n",
    "                                  'Q4': [401,402,403]},\n",
    "                               index=['I0','I2','I3'])\n",
    "print(quarters1)\n",
    "print(quarters2)"
   ]
  },
  {
   "cell_type": "code",
   "execution_count": 59,
   "metadata": {},
   "outputs": [
    {
     "data": {
      "text/html": [
       "<div>\n",
       "<style scoped>\n",
       "    .dataframe tbody tr th:only-of-type {\n",
       "        vertical-align: middle;\n",
       "    }\n",
       "\n",
       "    .dataframe tbody tr th {\n",
       "        vertical-align: top;\n",
       "    }\n",
       "\n",
       "    .dataframe thead th {\n",
       "        text-align: right;\n",
       "    }\n",
       "</style>\n",
       "<table border=\"1\" class=\"dataframe\">\n",
       "  <thead>\n",
       "    <tr style=\"text-align: right;\">\n",
       "      <th></th>\n",
       "      <th>Q1</th>\n",
       "      <th>Q2</th>\n",
       "      <th>Q3</th>\n",
       "      <th>Q4</th>\n",
       "    </tr>\n",
       "  </thead>\n",
       "  <tbody>\n",
       "    <tr>\n",
       "      <th>I0</th>\n",
       "      <td>101.0</td>\n",
       "      <td>201.0</td>\n",
       "      <td>301</td>\n",
       "      <td>401</td>\n",
       "    </tr>\n",
       "    <tr>\n",
       "      <th>I2</th>\n",
       "      <td>103.0</td>\n",
       "      <td>203.0</td>\n",
       "      <td>302</td>\n",
       "      <td>402</td>\n",
       "    </tr>\n",
       "    <tr>\n",
       "      <th>I3</th>\n",
       "      <td>NaN</td>\n",
       "      <td>NaN</td>\n",
       "      <td>303</td>\n",
       "      <td>403</td>\n",
       "    </tr>\n",
       "  </tbody>\n",
       "</table>\n",
       "</div>"
      ],
      "text/plain": [
       "       Q1     Q2   Q3   Q4\n",
       "I0  101.0  201.0  301  401\n",
       "I2  103.0  203.0  302  402\n",
       "I3    NaN    NaN  303  403"
      ]
     },
     "execution_count": 59,
     "metadata": {},
     "output_type": "execute_result"
    }
   ],
   "source": [
    "quarters1.join(quarters2,how='right')"
   ]
  },
  {
   "cell_type": "code",
   "execution_count": 63,
   "metadata": {},
   "outputs": [
    {
     "data": {
      "text/html": [
       "<div>\n",
       "<style scoped>\n",
       "    .dataframe tbody tr th:only-of-type {\n",
       "        vertical-align: middle;\n",
       "    }\n",
       "\n",
       "    .dataframe tbody tr th {\n",
       "        vertical-align: top;\n",
       "    }\n",
       "\n",
       "    .dataframe thead th {\n",
       "        text-align: right;\n",
       "    }\n",
       "</style>\n",
       "<table border=\"1\" class=\"dataframe\">\n",
       "  <thead>\n",
       "    <tr style=\"text-align: right;\">\n",
       "      <th></th>\n",
       "      <th>stock</th>\n",
       "      <th>date</th>\n",
       "      <th>price</th>\n",
       "    </tr>\n",
       "  </thead>\n",
       "  <tbody>\n",
       "    <tr>\n",
       "      <th>0</th>\n",
       "      <td>AAPL</td>\n",
       "      <td>08-02-2013</td>\n",
       "      <td>67.8542</td>\n",
       "    </tr>\n",
       "    <tr>\n",
       "      <th>1</th>\n",
       "      <td>AAPL</td>\n",
       "      <td>11-02-2013</td>\n",
       "      <td>68.5614</td>\n",
       "    </tr>\n",
       "    <tr>\n",
       "      <th>2</th>\n",
       "      <td>AAPL</td>\n",
       "      <td>12-02-2013</td>\n",
       "      <td>66.8428</td>\n",
       "    </tr>\n",
       "    <tr>\n",
       "      <th>3</th>\n",
       "      <td>AAPL</td>\n",
       "      <td>13-02-2013</td>\n",
       "      <td>66.7156</td>\n",
       "    </tr>\n",
       "    <tr>\n",
       "      <th>4</th>\n",
       "      <td>AAPL</td>\n",
       "      <td>14-02-2013</td>\n",
       "      <td>66.6556</td>\n",
       "    </tr>\n",
       "    <tr>\n",
       "      <th>...</th>\n",
       "      <td>...</td>\n",
       "      <td>...</td>\n",
       "      <td>...</td>\n",
       "    </tr>\n",
       "    <tr>\n",
       "      <th>5031</th>\n",
       "      <td>ZTS</td>\n",
       "      <td>01-02-2018</td>\n",
       "      <td>77.8200</td>\n",
       "    </tr>\n",
       "    <tr>\n",
       "      <th>5032</th>\n",
       "      <td>ZTS</td>\n",
       "      <td>02-02-2018</td>\n",
       "      <td>76.7800</td>\n",
       "    </tr>\n",
       "    <tr>\n",
       "      <th>5033</th>\n",
       "      <td>ZTS</td>\n",
       "      <td>05-02-2018</td>\n",
       "      <td>73.8300</td>\n",
       "    </tr>\n",
       "    <tr>\n",
       "      <th>5034</th>\n",
       "      <td>ZTS</td>\n",
       "      <td>06-02-2018</td>\n",
       "      <td>73.2700</td>\n",
       "    </tr>\n",
       "    <tr>\n",
       "      <th>5035</th>\n",
       "      <td>ZTS</td>\n",
       "      <td>07-02-2018</td>\n",
       "      <td>73.8600</td>\n",
       "    </tr>\n",
       "  </tbody>\n",
       "</table>\n",
       "<p>5036 rows × 3 columns</p>\n",
       "</div>"
      ],
      "text/plain": [
       "     stock        date    price\n",
       "0     AAPL  08-02-2013  67.8542\n",
       "1     AAPL  11-02-2013  68.5614\n",
       "2     AAPL  12-02-2013  66.8428\n",
       "3     AAPL  13-02-2013  66.7156\n",
       "4     AAPL  14-02-2013  66.6556\n",
       "...    ...         ...      ...\n",
       "5031   ZTS  01-02-2018  77.8200\n",
       "5032   ZTS  02-02-2018  76.7800\n",
       "5033   ZTS  05-02-2018  73.8300\n",
       "5034   ZTS  06-02-2018  73.2700\n",
       "5035   ZTS  07-02-2018  73.8600\n",
       "\n",
       "[5036 rows x 3 columns]"
      ]
     },
     "execution_count": 63,
     "metadata": {},
     "output_type": "execute_result"
    }
   ],
   "source": [
    "dataCSV=pd.read_csv('StockData.csv')\n",
    "dataCSV"
   ]
  },
  {
   "cell_type": "code",
   "execution_count": 68,
   "metadata": {},
   "outputs": [
    {
     "data": {
      "text/html": [
       "<div>\n",
       "<style scoped>\n",
       "    .dataframe tbody tr th:only-of-type {\n",
       "        vertical-align: middle;\n",
       "    }\n",
       "\n",
       "    .dataframe tbody tr th {\n",
       "        vertical-align: top;\n",
       "    }\n",
       "\n",
       "    .dataframe thead th {\n",
       "        text-align: right;\n",
       "    }\n",
       "</style>\n",
       "<table border=\"1\" class=\"dataframe\">\n",
       "  <thead>\n",
       "    <tr style=\"text-align: right;\">\n",
       "      <th></th>\n",
       "      <th>stock</th>\n",
       "      <th>date</th>\n",
       "      <th>price</th>\n",
       "    </tr>\n",
       "  </thead>\n",
       "  <tbody>\n",
       "    <tr>\n",
       "      <th>0</th>\n",
       "      <td>AAPL</td>\n",
       "      <td>2013-02-08</td>\n",
       "      <td>67.8542</td>\n",
       "    </tr>\n",
       "    <tr>\n",
       "      <th>1</th>\n",
       "      <td>AAPL</td>\n",
       "      <td>2013-02-11</td>\n",
       "      <td>68.5614</td>\n",
       "    </tr>\n",
       "    <tr>\n",
       "      <th>2</th>\n",
       "      <td>AAPL</td>\n",
       "      <td>2013-02-12</td>\n",
       "      <td>66.8428</td>\n",
       "    </tr>\n",
       "    <tr>\n",
       "      <th>3</th>\n",
       "      <td>AAPL</td>\n",
       "      <td>2013-02-13</td>\n",
       "      <td>66.7156</td>\n",
       "    </tr>\n",
       "    <tr>\n",
       "      <th>4</th>\n",
       "      <td>AAPL</td>\n",
       "      <td>2013-02-14</td>\n",
       "      <td>66.6556</td>\n",
       "    </tr>\n",
       "    <tr>\n",
       "      <th>...</th>\n",
       "      <td>...</td>\n",
       "      <td>...</td>\n",
       "      <td>...</td>\n",
       "    </tr>\n",
       "    <tr>\n",
       "      <th>5031</th>\n",
       "      <td>ZTS</td>\n",
       "      <td>2018-02-01</td>\n",
       "      <td>77.8200</td>\n",
       "    </tr>\n",
       "    <tr>\n",
       "      <th>5032</th>\n",
       "      <td>ZTS</td>\n",
       "      <td>2018-02-02</td>\n",
       "      <td>76.7800</td>\n",
       "    </tr>\n",
       "    <tr>\n",
       "      <th>5033</th>\n",
       "      <td>ZTS</td>\n",
       "      <td>2018-02-05</td>\n",
       "      <td>73.8300</td>\n",
       "    </tr>\n",
       "    <tr>\n",
       "      <th>5034</th>\n",
       "      <td>ZTS</td>\n",
       "      <td>2018-02-06</td>\n",
       "      <td>73.2700</td>\n",
       "    </tr>\n",
       "    <tr>\n",
       "      <th>5035</th>\n",
       "      <td>ZTS</td>\n",
       "      <td>2018-02-07</td>\n",
       "      <td>73.8600</td>\n",
       "    </tr>\n",
       "  </tbody>\n",
       "</table>\n",
       "<p>5036 rows × 3 columns</p>\n",
       "</div>"
      ],
      "text/plain": [
       "     stock       date    price\n",
       "0     AAPL 2013-02-08  67.8542\n",
       "1     AAPL 2013-02-11  68.5614\n",
       "2     AAPL 2013-02-12  66.8428\n",
       "3     AAPL 2013-02-13  66.7156\n",
       "4     AAPL 2013-02-14  66.6556\n",
       "...    ...        ...      ...\n",
       "5031   ZTS 2018-02-01  77.8200\n",
       "5032   ZTS 2018-02-02  76.7800\n",
       "5033   ZTS 2018-02-05  73.8300\n",
       "5034   ZTS 2018-02-06  73.2700\n",
       "5035   ZTS 2018-02-07  73.8600\n",
       "\n",
       "[5036 rows x 3 columns]"
      ]
     },
     "execution_count": 68,
     "metadata": {},
     "output_type": "execute_result"
    }
   ],
   "source": [
    "dataXLS=pd.read_excel('StockData.xlsx')\n",
    "dataXLS"
   ]
  },
  {
   "cell_type": "code",
   "execution_count": 70,
   "metadata": {},
   "outputs": [
    {
     "data": {
      "text/html": [
       "<div>\n",
       "<style scoped>\n",
       "    .dataframe tbody tr th:only-of-type {\n",
       "        vertical-align: middle;\n",
       "    }\n",
       "\n",
       "    .dataframe tbody tr th {\n",
       "        vertical-align: top;\n",
       "    }\n",
       "\n",
       "    .dataframe thead th {\n",
       "        text-align: right;\n",
       "    }\n",
       "</style>\n",
       "<table border=\"1\" class=\"dataframe\">\n",
       "  <thead>\n",
       "    <tr style=\"text-align: right;\">\n",
       "      <th></th>\n",
       "      <th>stock</th>\n",
       "      <th>date</th>\n",
       "      <th>price</th>\n",
       "    </tr>\n",
       "  </thead>\n",
       "  <tbody>\n",
       "    <tr>\n",
       "      <th>5031</th>\n",
       "      <td>ZTS</td>\n",
       "      <td>01-02-2018</td>\n",
       "      <td>77.82</td>\n",
       "    </tr>\n",
       "    <tr>\n",
       "      <th>5032</th>\n",
       "      <td>ZTS</td>\n",
       "      <td>02-02-2018</td>\n",
       "      <td>76.78</td>\n",
       "    </tr>\n",
       "    <tr>\n",
       "      <th>5033</th>\n",
       "      <td>ZTS</td>\n",
       "      <td>05-02-2018</td>\n",
       "      <td>73.83</td>\n",
       "    </tr>\n",
       "    <tr>\n",
       "      <th>5034</th>\n",
       "      <td>ZTS</td>\n",
       "      <td>06-02-2018</td>\n",
       "      <td>73.27</td>\n",
       "    </tr>\n",
       "    <tr>\n",
       "      <th>5035</th>\n",
       "      <td>ZTS</td>\n",
       "      <td>07-02-2018</td>\n",
       "      <td>73.86</td>\n",
       "    </tr>\n",
       "  </tbody>\n",
       "</table>\n",
       "</div>"
      ],
      "text/plain": [
       "     stock        date  price\n",
       "5031   ZTS  01-02-2018  77.82\n",
       "5032   ZTS  02-02-2018  76.78\n",
       "5033   ZTS  05-02-2018  73.83\n",
       "5034   ZTS  06-02-2018  73.27\n",
       "5035   ZTS  07-02-2018  73.86"
      ]
     },
     "execution_count": 70,
     "metadata": {},
     "output_type": "execute_result"
    }
   ],
   "source": [
    "data.tail()"
   ]
  },
  {
   "cell_type": "code",
   "execution_count": 73,
   "metadata": {},
   "outputs": [
    {
     "data": {
      "text/plain": [
       "(5036, 3)"
      ]
     },
     "execution_count": 73,
     "metadata": {},
     "output_type": "execute_result"
    }
   ],
   "source": [
    "data.shape"
   ]
  },
  {
   "cell_type": "code",
   "execution_count": 75,
   "metadata": {},
   "outputs": [
    {
     "name": "stdout",
     "output_type": "stream",
     "text": [
      "<class 'pandas.core.frame.DataFrame'>\n",
      "RangeIndex: 5036 entries, 0 to 5035\n",
      "Data columns (total 3 columns):\n",
      " #   Column  Non-Null Count  Dtype  \n",
      "---  ------  --------------  -----  \n",
      " 0   stock   5036 non-null   object \n",
      " 1   date    5036 non-null   object \n",
      " 2   price   5036 non-null   float64\n",
      "dtypes: float64(1), object(2)\n",
      "memory usage: 118.2+ KB\n"
     ]
    }
   ],
   "source": [
    "data.info()"
   ]
  },
  {
   "cell_type": "code",
   "execution_count": 78,
   "metadata": {},
   "outputs": [
    {
     "data": {
      "text/plain": [
       "28.4"
      ]
     },
     "execution_count": 78,
     "metadata": {},
     "output_type": "execute_result"
    }
   ],
   "source": [
    "data['price'].min()"
   ]
  },
  {
   "cell_type": "code",
   "execution_count": 80,
   "metadata": {},
   "outputs": [
    {
     "data": {
      "text/plain": [
       "179.26"
      ]
     },
     "execution_count": 80,
     "metadata": {},
     "output_type": "execute_result"
    }
   ],
   "source": [
    "data['price'].max()\n"
   ]
  },
  {
   "cell_type": "code",
   "execution_count": 83,
   "metadata": {},
   "outputs": [
    {
     "data": {
      "text/plain": [
       "array(['AAPL', 'SNI', 'TJX', 'ZTS'], dtype=object)"
      ]
     },
     "execution_count": 83,
     "metadata": {},
     "output_type": "execute_result"
    }
   ],
   "source": [
    "data['stock'].unique()"
   ]
  },
  {
   "cell_type": "code",
   "execution_count": 85,
   "metadata": {},
   "outputs": [
    {
     "data": {
      "text/plain": [
       "AAPL    1259\n",
       "SNI     1259\n",
       "TJX     1259\n",
       "ZTS     1259\n",
       "Name: stock, dtype: int64"
      ]
     },
     "execution_count": 85,
     "metadata": {},
     "output_type": "execute_result"
    }
   ],
   "source": [
    "data['stock'].value_counts()\n"
   ]
  },
  {
   "cell_type": "code",
   "execution_count": 88,
   "metadata": {},
   "outputs": [
    {
     "data": {
      "text/plain": [
       "AAPL    0.25\n",
       "SNI     0.25\n",
       "TJX     0.25\n",
       "ZTS     0.25\n",
       "Name: stock, dtype: float64"
      ]
     },
     "execution_count": 88,
     "metadata": {},
     "output_type": "execute_result"
    }
   ],
   "source": [
    "data['stock'].value_counts(normalize=True)\n"
   ]
  },
  {
   "cell_type": "code",
   "execution_count": 95,
   "metadata": {},
   "outputs": [
    {
     "data": {
      "text/plain": [
       "stock\n",
       "AAPL    109.066698\n",
       "SNI      71.319206\n",
       "TJX      66.743566\n",
       "ZTS      45.098648\n",
       "Name: price, dtype: float64"
      ]
     },
     "execution_count": 95,
     "metadata": {},
     "output_type": "execute_result"
    }
   ],
   "source": [
    "data.groupby(['stock'])['price'].mean()"
   ]
  },
  {
   "cell_type": "code",
   "execution_count": 99,
   "metadata": {},
   "outputs": [
    {
     "name": "stdout",
     "output_type": "stream",
     "text": [
      "     stock        date    price  new_column\n",
      "0     AAPL  08-02-2013  67.8542    74.63962\n",
      "1     AAPL  11-02-2013  68.5614    75.41754\n",
      "2     AAPL  12-02-2013  66.8428    73.52708\n",
      "3     AAPL  13-02-2013  66.7156    73.38716\n",
      "4     AAPL  14-02-2013  66.6556    73.32116\n",
      "...    ...         ...      ...         ...\n",
      "5031   ZTS  01-02-2018  77.8200    85.60200\n",
      "5032   ZTS  02-02-2018  76.7800    84.45800\n",
      "5033   ZTS  05-02-2018  73.8300    81.21300\n",
      "5034   ZTS  06-02-2018  73.2700    80.59700\n",
      "5035   ZTS  07-02-2018  73.8600    81.24600\n",
      "\n",
      "[5036 rows x 4 columns]\n",
      "     stock        date    price  new_column\n",
      "0     AAPL  08-02-2013  67.8542    74.63962\n",
      "1     AAPL  11-02-2013  68.5614    75.41754\n",
      "2     AAPL  12-02-2013  66.8428    73.52708\n",
      "3     AAPL  13-02-2013  66.7156    73.38716\n",
      "4     AAPL  14-02-2013  66.6556    73.32116\n",
      "...    ...         ...      ...         ...\n",
      "5031   ZTS  01-02-2018  77.8200    85.60200\n",
      "5032   ZTS  02-02-2018  76.7800    84.45800\n",
      "5033   ZTS  05-02-2018  73.8300    81.21300\n",
      "5034   ZTS  06-02-2018  73.2700    80.59700\n",
      "5035   ZTS  07-02-2018  73.8600    81.24600\n",
      "\n",
      "[5036 rows x 4 columns]\n"
     ]
    }
   ],
   "source": [
    "print(data)\n",
    "def margin(s):\n",
    "  return s*(1.1)\n",
    "data['new_column']=data['price'].apply(margin)\n",
    "print(data)\n"
   ]
  },
  {
   "cell_type": "code",
   "execution_count": 105,
   "metadata": {},
   "outputs": [
    {
     "name": "stdout",
     "output_type": "stream",
     "text": [
      "<class 'pandas.core.frame.DataFrame'>\n",
      "RangeIndex: 5036 entries, 0 to 5035\n",
      "Data columns (total 3 columns):\n",
      " #   Column  Non-Null Count  Dtype         \n",
      "---  ------  --------------  -----         \n",
      " 0   stock   5036 non-null   object        \n",
      " 1   date    5036 non-null   datetime64[ns]\n",
      " 2   price   5036 non-null   float64       \n",
      "dtypes: datetime64[ns](1), float64(1), object(1)\n",
      "memory usage: 118.2+ KB\n"
     ]
    },
    {
     "data": {
      "text/html": [
       "<div>\n",
       "<style scoped>\n",
       "    .dataframe tbody tr th:only-of-type {\n",
       "        vertical-align: middle;\n",
       "    }\n",
       "\n",
       "    .dataframe tbody tr th {\n",
       "        vertical-align: top;\n",
       "    }\n",
       "\n",
       "    .dataframe thead th {\n",
       "        text-align: right;\n",
       "    }\n",
       "</style>\n",
       "<table border=\"1\" class=\"dataframe\">\n",
       "  <thead>\n",
       "    <tr style=\"text-align: right;\">\n",
       "      <th></th>\n",
       "      <th>stock</th>\n",
       "      <th>date</th>\n",
       "      <th>price</th>\n",
       "    </tr>\n",
       "  </thead>\n",
       "  <tbody>\n",
       "    <tr>\n",
       "      <th>0</th>\n",
       "      <td>AAPL</td>\n",
       "      <td>2013-02-08</td>\n",
       "      <td>67.8542</td>\n",
       "    </tr>\n",
       "    <tr>\n",
       "      <th>1</th>\n",
       "      <td>AAPL</td>\n",
       "      <td>2013-02-11</td>\n",
       "      <td>68.5614</td>\n",
       "    </tr>\n",
       "    <tr>\n",
       "      <th>2</th>\n",
       "      <td>AAPL</td>\n",
       "      <td>2013-02-12</td>\n",
       "      <td>66.8428</td>\n",
       "    </tr>\n",
       "    <tr>\n",
       "      <th>3</th>\n",
       "      <td>AAPL</td>\n",
       "      <td>2013-02-13</td>\n",
       "      <td>66.7156</td>\n",
       "    </tr>\n",
       "    <tr>\n",
       "      <th>4</th>\n",
       "      <td>AAPL</td>\n",
       "      <td>2013-02-14</td>\n",
       "      <td>66.6556</td>\n",
       "    </tr>\n",
       "    <tr>\n",
       "      <th>...</th>\n",
       "      <td>...</td>\n",
       "      <td>...</td>\n",
       "      <td>...</td>\n",
       "    </tr>\n",
       "    <tr>\n",
       "      <th>5031</th>\n",
       "      <td>ZTS</td>\n",
       "      <td>2018-02-01</td>\n",
       "      <td>77.8200</td>\n",
       "    </tr>\n",
       "    <tr>\n",
       "      <th>5032</th>\n",
       "      <td>ZTS</td>\n",
       "      <td>2018-02-02</td>\n",
       "      <td>76.7800</td>\n",
       "    </tr>\n",
       "    <tr>\n",
       "      <th>5033</th>\n",
       "      <td>ZTS</td>\n",
       "      <td>2018-02-05</td>\n",
       "      <td>73.8300</td>\n",
       "    </tr>\n",
       "    <tr>\n",
       "      <th>5034</th>\n",
       "      <td>ZTS</td>\n",
       "      <td>2018-02-06</td>\n",
       "      <td>73.2700</td>\n",
       "    </tr>\n",
       "    <tr>\n",
       "      <th>5035</th>\n",
       "      <td>ZTS</td>\n",
       "      <td>2018-02-07</td>\n",
       "      <td>73.8600</td>\n",
       "    </tr>\n",
       "  </tbody>\n",
       "</table>\n",
       "<p>5036 rows × 3 columns</p>\n",
       "</div>"
      ],
      "text/plain": [
       "     stock       date    price\n",
       "0     AAPL 2013-02-08  67.8542\n",
       "1     AAPL 2013-02-11  68.5614\n",
       "2     AAPL 2013-02-12  66.8428\n",
       "3     AAPL 2013-02-13  66.7156\n",
       "4     AAPL 2013-02-14  66.6556\n",
       "...    ...        ...      ...\n",
       "5031   ZTS 2018-02-01  77.8200\n",
       "5032   ZTS 2018-02-02  76.7800\n",
       "5033   ZTS 2018-02-05  73.8300\n",
       "5034   ZTS 2018-02-06  73.2700\n",
       "5035   ZTS 2018-02-07  73.8600\n",
       "\n",
       "[5036 rows x 3 columns]"
      ]
     },
     "execution_count": 105,
     "metadata": {},
     "output_type": "execute_result"
    }
   ],
   "source": [
    "data=pd.read_csv('StockData.csv')\n",
    "data['date']=pd.to_datetime(data['date'],dayfirst=True)\n",
    "data.info()\n",
    "data"
   ]
  },
  {
   "cell_type": "code",
   "execution_count": 106,
   "metadata": {},
   "outputs": [
    {
     "name": "stdout",
     "output_type": "stream",
     "text": [
      "2022-01-29\n"
     ]
    }
   ],
   "source": [
    "import datetime\n",
    "date = datetime.date(2022, 1, 29)\n",
    "print(date)"
   ]
  }
 ],
 "metadata": {
  "kernelspec": {
   "display_name": "Python 3",
   "language": "python",
   "name": "python3"
  },
  "language_info": {
   "codemirror_mode": {
    "name": "ipython",
    "version": 3
   },
   "file_extension": ".py",
   "mimetype": "text/x-python",
   "name": "python",
   "nbconvert_exporter": "python",
   "pygments_lexer": "ipython3",
   "version": "3.11.3"
  },
  "orig_nbformat": 4
 },
 "nbformat": 4,
 "nbformat_minor": 2
}
